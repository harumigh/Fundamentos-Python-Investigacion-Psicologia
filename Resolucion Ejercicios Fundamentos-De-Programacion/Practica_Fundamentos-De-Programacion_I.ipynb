{
  "metadata": {
    "language_info": {
      "codemirror_mode": {
        "name": "ipython",
        "version": 3
      },
      "file_extension": ".py",
      "mimetype": "text/x-python",
      "name": "python",
      "nbconvert_exporter": "python",
      "pygments_lexer": "ipython3",
      "version": "3.7.9"
    },
    "orig_nbformat": 2,
    "kernelspec": {
      "name": "python3",
      "display_name": "Python 3.7.9 64-bit ('base': conda)",
      "metadata": {
        "interpreter": {
          "hash": "fcc1d2c210046f8d6f0962280d91bf96fd89619bab60881df3e6b70c67140f94"
        }
      }
    },
    "colab": {
      "provenance": []
    }
  },
  "nbformat": 4,
  "nbformat_minor": 0,
  "cells": [
    {
      "source": [
        "# Guía Práctica: Fundamentos de Programación I\n",
        "\n",
        "Este tutorial es una adaptación al español del tutorial [Foundations of Python Programming](https://runestone.academy/runestone/books/published/fopp/index.html) desarrollado por Brad Miller, Paul Resnick, Lauren Murphy, Jeffrey Elkner, Peter Wentworth, Allen B. Downey, Chris como parte del proyecto [Runstone Interactive](http://runestoneinteractive.org/).\n",
        "\n",
        ">Barbara Ericson and Bradley Miller. 2020 Runestone: A Platform for Free, On-line, and Interactive Ebooks In Proceedings of the 51st ACM Technical Symposium on Computer Science Education (SIGCSE ’20). Association for Computing Machinery, New York, NY, USA, 1240.\n"
      ],
      "cell_type": "markdown",
      "metadata": {
        "id": "RxbKHKb24Fhk"
      }
    },
    {
      "source": [
        "# Ejercicio 1\n",
        "\n",
        "Evalúa las siguientes expresiones numéricas en tu cabeza, luego usa la ventana de código activo para verificar sus resultados:\n",
        "\n",
        ">\n",
        "1. 5 ** 2\n",
        "2. 9 * 5\n",
        "3. 15 / 12\n",
        "4. 12 / 15\n",
        "5. 15 // 12\n",
        "6. 12 // 15\n",
        "7. 5 % 2\n",
        "8. 9 % 5\n",
        "9. 15 % 12\n",
        "10. 12 % 15\n",
        "11. 6 % 6\n",
        "12. 0 % 7\n",
        ">"
      ],
      "cell_type": "markdown",
      "metadata": {
        "id": "n1646ZS04Fhn"
      }
    },
    {
      "cell_type": "code",
      "execution_count": 1,
      "metadata": {
        "colab": {
          "base_uri": "https://localhost:8080/"
        },
        "id": "2rTfZ0ac4Fhn",
        "outputId": "ad79c8e1-a961-418e-f1ce-977761ad03ec"
      },
      "outputs": [
        {
          "output_type": "stream",
          "name": "stdout",
          "text": [
            "25\n"
          ]
        }
      ],
      "source": [
        "print(5**2)"
      ]
    },
    {
      "cell_type": "markdown",
      "source": [],
      "metadata": {
        "id": "7UudHy7Q5eNc"
      }
    },
    {
      "cell_type": "code",
      "source": [
        "print (9*5)\n",
        "print (15/12)\n",
        "print (12/15)\n",
        "print (15//12)\n",
        "print (12//15)\n",
        "print (5%2)\n",
        "print (9%5)\n",
        "print (15%12)\n",
        "print (12%15)\n",
        "print (6%6)\n",
        "print (0%7)\n"
      ],
      "metadata": {
        "id": "K3_hVlb35el0",
        "outputId": "647735ba-ed05-4bb4-9c0d-07d30eb507a6",
        "colab": {
          "base_uri": "https://localhost:8080/"
        }
      },
      "execution_count": 12,
      "outputs": [
        {
          "output_type": "stream",
          "name": "stdout",
          "text": [
            "45\n",
            "1.25\n",
            "0.8\n",
            "1\n",
            "0\n",
            "1\n",
            "4\n",
            "3\n",
            "12\n",
            "0\n",
            "0\n"
          ]
        }
      ]
    },
    {
      "cell_type": "code",
      "source": [
        "print (15/12)\n"
      ],
      "metadata": {
        "id": "mKmdoadz5lQK",
        "outputId": "2867a7a8-4e8f-4193-f5aa-9877bebb94a3",
        "colab": {
          "base_uri": "https://localhost:8080/"
        }
      },
      "execution_count": 3,
      "outputs": [
        {
          "output_type": "stream",
          "name": "stdout",
          "text": [
            "1.25\n"
          ]
        }
      ]
    },
    {
      "source": [
        "# Ejercicio 2\n",
        "\n",
        "Toma la frase: \"Todo trabajo y nada de juego hacen de Jack un niño aburrido\".\n",
        "\n",
        "Almacena cada palabra en una variable separada, luego imprime la oración en una línea usando `print`."
      ],
      "cell_type": "markdown",
      "metadata": {
        "id": "CKH-EjOF4Fho"
      }
    },
    {
      "cell_type": "code",
      "execution_count": 22,
      "metadata": {
        "colab": {
          "base_uri": "https://localhost:8080/"
        },
        "id": "jbdWVmEo4Fho",
        "outputId": "9beb35e7-a242-4be5-9b67-a35e9497b12b"
      },
      "outputs": [
        {
          "output_type": "stream",
          "name": "stdout",
          "text": [
            "TodotrabajoynadadejuegohacendeJackunniñoaburrido\n"
          ]
        }
      ],
      "source": [
        "a=\"Todo\"\n",
        "b=\"trabajo\"\n",
        "c=\"y\"\n",
        "d=\"nada\"\n",
        "e=\"de\"\n",
        "f=\"juego\"\n",
        "g=\"hacen\"\n",
        "h=\"de\"\n",
        "i=\"Jack\"\n",
        "j=\"un\"\n",
        "k=\"niño\"\n",
        "l=\"aburrido\"\n",
        "\n",
        "print(a  +  b +  c +  d +  e +  f +  g +  h +  i +  j +  k +  l)\n"
      ]
    },
    {
      "source": [
        "# Ejercicio 3\n",
        "\n",
        "Escribe un programa que convierta grados centígrados a grados fahrenheit."
      ],
      "cell_type": "markdown",
      "metadata": {
        "id": "18Ch4FvB4Fhp"
      }
    },
    {
      "cell_type": "code",
      "execution_count": 44,
      "metadata": {
        "colab": {
          "base_uri": "https://localhost:8080/"
        },
        "id": "QrFEyG-f4Fhp",
        "outputId": "b6366795-f436-475b-8dab-cb8fb4ba4ad3"
      },
      "outputs": [
        {
          "output_type": "stream",
          "name": "stdout",
          "text": [
            "33.8\n",
            "33.8\n"
          ]
        }
      ],
      "source": [
        "def convert(x):\n",
        "    return ( (x * (9 / 5)) + 32)\n",
        "\n",
        "print(convert(1))\n",
        "\n",
        "Centigrados = 1\n",
        "NFARENPERCENTI = (9/5) + 32\n",
        "FAREN = Centigrados * NFARENPERCENTI\n",
        "print(FAREN)\n"
      ]
    },
    {
      "source": [
        "# Ejercicio 4\n",
        "\n",
        "Escribe en Python la siguiente expresión: 2 ^ 3 (dos elevados a la potencia de 3) y asígnala a una variable llamada `resultado`. Imprime el valor del resultado de la variable. Debería ver 8 como resultado."
      ],
      "cell_type": "markdown",
      "metadata": {
        "id": "-X_QEv6G4Fhq"
      }
    },
    {
      "cell_type": "code",
      "execution_count": 32,
      "metadata": {
        "colab": {
          "base_uri": "https://localhost:8080/"
        },
        "id": "2kKb3MaP4Fhq",
        "outputId": "9350a22c-9848-4018-f5ec-048bd70e2c64"
      },
      "outputs": [
        {
          "output_type": "stream",
          "name": "stdout",
          "text": [
            "8\n"
          ]
        }
      ],
      "source": [
        "resultado=2**3\n",
        "print(resultado)"
      ]
    },
    {
      "source": [
        "# Ejercicio 5\n",
        "\n",
        "Corrije el código a continuación que convierte minutos en segundos. Cuando un usuario proporciona una cantidad de minutos, genera los minutos convertidos en segundos. Por ejemplo, cuando un usuario proporciona el número 1, la salida debería ser 60. ¡Trabaja hasta obtener la respuesta correcta!"
      ],
      "cell_type": "markdown",
      "metadata": {
        "id": "rFzO_Vfn4Fhq"
      }
    },
    {
      "cell_type": "code",
      "execution_count": 43,
      "metadata": {
        "colab": {
          "base_uri": "https://localhost:8080/"
        },
        "id": "3XIqbF1y4Fhr",
        "outputId": "51b36bc7-4294-4397-d077-92fbf9c80dd0"
      },
      "outputs": [
        {
          "output_type": "stream",
          "name": "stdout",
          "text": [
            "60\n"
          ]
        }
      ],
      "source": [
        "minutes = 1\n",
        "NRSECONDSPERMINUTE = 60\n",
        "seconds = minutes * NRSECONDSPERMINUTE\n",
        "print(seconds)\n",
        "\n"
      ]
    },
    {
      "source": [
        "## Bonus\n",
        "\n",
        "¿Cómo convertirías el código anterior a una función?"
      ],
      "cell_type": "markdown",
      "metadata": {
        "id": "ZDdHVJy64Fhr"
      }
    },
    {
      "cell_type": "code",
      "execution_count": 52,
      "metadata": {
        "colab": {
          "base_uri": "https://localhost:8080/"
        },
        "id": "_w6AD3Ld4Fhr",
        "outputId": "cd43e9c2-b460-45f4-9874-0fcf55e71f7b"
      },
      "outputs": [
        {
          "output_type": "stream",
          "name": "stdout",
          "text": [
            "60\n"
          ]
        }
      ],
      "source": [
        "def seconds(x):\n",
        "    return (x*60)\n",
        "\n",
        "print (seconds(1))"
      ]
    },
    {
      "source": [
        "# Ejercicio 6\n",
        "\n",
        "Crea una variable llamada `carname` y asígnele el valor `Honda`. Luego imprime cuántos caracteres tiene `carname`."
      ],
      "cell_type": "markdown",
      "metadata": {
        "id": "hi3PlrHX4Fhr"
      }
    },
    {
      "cell_type": "code",
      "execution_count": 53,
      "metadata": {
        "colab": {
          "base_uri": "https://localhost:8080/"
        },
        "id": "C4nJB_nR4Fhr",
        "outputId": "3ec97ca9-3bce-4b4e-8584-dee86547d4e9"
      },
      "outputs": [
        {
          "output_type": "stream",
          "name": "stdout",
          "text": [
            "5\n"
          ]
        }
      ],
      "source": [
        "carname =\"Honda\"\n",
        "print(len(carname))\n"
      ]
    },
    {
      "source": [
        "# Ejercicio 7\n",
        "\n",
        "Escribe un código que solicite a los usuarios que ingresen el año en que nacieron. Imprime cuántos años cumplirán en 2022."
      ],
      "cell_type": "markdown",
      "metadata": {
        "id": "napQSdTg4Fhr"
      }
    },
    {
      "cell_type": "code",
      "execution_count": 59,
      "metadata": {
        "colab": {
          "base_uri": "https://localhost:8080/"
        },
        "id": "u1CQeZig4Fhs",
        "outputId": "3ce66c25-ae44-487f-ae75-3f48e8f811c3"
      },
      "outputs": [
        {
          "output_type": "stream",
          "name": "stdout",
          "text": [
            "24\n"
          ]
        }
      ],
      "source": [
        "AÑONACIMIENTO = 1998\n",
        "AÑOACTUAL = 2022\n",
        "EDAD = AÑOACTUAL - AÑONACIMIENTO\n",
        "print(EDAD)"
      ]
    },
    {
      "source": [
        "# Ejercicio 8\n",
        "\n",
        "Escribe una función llamada `cubo`. Toma un número entero y devuelve el cubo de ese valor entero. Escribe código para asignar a una variable llamada `xyz` el valor `5 * 5 * 5` (cinco al cubo). Usa la función cubo, en lugar de simplemente multiplicar con *.\n"
      ],
      "cell_type": "markdown",
      "metadata": {
        "id": "yFr6YXYl4Fhs"
      }
    },
    {
      "source": [
        "def cubo (a):\n",
        "    return (a**3)\n",
        "\n",
        "xyz = 5 * 5 * 5\n",
        "xyz = print (cubo (5))\n",
        "\n"
      ],
      "cell_type": "code",
      "metadata": {
        "colab": {
          "base_uri": "https://localhost:8080/"
        },
        "id": "p5VgRYQZ4Fhs",
        "outputId": "26a77b56-8947-44a1-e79f-ca0b2da6eb47"
      },
      "execution_count": 62,
      "outputs": [
        {
          "output_type": "stream",
          "name": "stdout",
          "text": [
            "125\n"
          ]
        }
      ]
    },
    {
      "source": [
        "# Ejercicio 9\n",
        "\n",
        "Escribe código para asignar el número de caracteres en la cadena `rv` a una variable `num_chars`."
      ],
      "cell_type": "markdown",
      "metadata": {
        "id": "RRJkFu3f4Fhs"
      }
    },
    {
      "cell_type": "code",
      "execution_count": 64,
      "metadata": {
        "colab": {
          "base_uri": "https://localhost:8080/"
        },
        "id": "KinuszFP4Fhs",
        "outputId": "fc39f4a1-918c-48c7-9bfd-099b2c70dcaa"
      },
      "outputs": [
        {
          "output_type": "stream",
          "name": "stdout",
          "text": [
            "348\n"
          ]
        }
      ],
      "source": [
        "rv = \"\"\"Once upon a midnight dreary, while I pondered, weak and weary,\n",
        "    Over many a quaint and curious volume of forgotten lore,\n",
        "    While I nodded, nearly napping, suddenly there came a tapping,\n",
        "    As of some one gently rapping, rapping at my chamber door.\n",
        "    'Tis some visitor, I muttered, tapping at my chamber door;\n",
        "    Only this and nothing more.\"\"\"\n",
        "\n",
        "num_chars=len(rv)\n",
        "print(num_chars)"
      ]
    },
    {
      "source": [
        "# Ejercicio 10\n",
        "\n",
        "¿Qué valores se obtienen de estas expresiones?\n",
        "\n",
        ">\n",
        "1. 3 == 3\n",
        "2. 3! = 3\n",
        "3. 3 >= 4\n",
        "4. not (3 < 4)\n",
        ">"
      ],
      "cell_type": "markdown",
      "metadata": {
        "id": "fahlAiVJ4Fhs"
      }
    },
    {
      "cell_type": "code",
      "execution_count": 76,
      "metadata": {
        "colab": {
          "base_uri": "https://localhost:8080/"
        },
        "id": "1BLg6zNP4Fhs",
        "outputId": "4d8f42d2-569d-4bb5-ae55-1c591c27f143"
      },
      "outputs": [
        {
          "output_type": "stream",
          "name": "stdout",
          "text": [
            "True\n",
            "False\n",
            "False\n",
            "False\n"
          ]
        }
      ],
      "source": [
        "print(3 == 3)\n",
        "print(\"3!\" == 3)\n",
        "print(3 >= 4)\n",
        "print(not (3<4))\n"
      ]
    },
    {
      "source": [
        "Si tienes tiempo, te invito a explorar los [ejercicios del capitulo 2](https://runestone.academy/runestone/books/published/fopp/SimplePythonData/Exercises.html) del tutorial original en inglés."
      ],
      "cell_type": "markdown",
      "metadata": {
        "id": "CE4FoWQ14Fht"
      }
    }
  ]
}