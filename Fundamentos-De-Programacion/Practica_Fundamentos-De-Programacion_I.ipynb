{
  "metadata": {
    "language_info": {
      "codemirror_mode": {
        "name": "ipython",
        "version": 3
      },
      "file_extension": ".py",
      "mimetype": "text/x-python",
      "name": "python",
      "nbconvert_exporter": "python",
      "pygments_lexer": "ipython3",
      "version": "3.7.9"
    },
    "orig_nbformat": 2,
    "kernelspec": {
      "name": "python3",
      "display_name": "Python 3.7.9 64-bit ('base': conda)",
      "metadata": {
        "interpreter": {
          "hash": "fcc1d2c210046f8d6f0962280d91bf96fd89619bab60881df3e6b70c67140f94"
        }
      }
    },
    "colab": {
      "provenance": []
    }
  },
  "nbformat": 4,
  "nbformat_minor": 0,
  "cells": [
    {
      "source": [
        "# Guía Práctica: Fundamentos de Programación I\n",
        "\n",
        "Este tutorial es una adaptación al español del tutorial [Foundations of Python Programming](https://runestone.academy/runestone/books/published/fopp/index.html) desarrollado por Brad Miller, Paul Resnick, Lauren Murphy, Jeffrey Elkner, Peter Wentworth, Allen B. Downey, Chris como parte del proyecto [Runstone Interactive](http://runestoneinteractive.org/).\n",
        "\n",
        ">Barbara Ericson and Bradley Miller. 2020 Runestone: A Platform for Free, On-line, and Interactive Ebooks In Proceedings of the 51st ACM Technical Symposium on Computer Science Education (SIGCSE ’20). Association for Computing Machinery, New York, NY, USA, 1240.\n"
      ],
      "cell_type": "markdown",
      "metadata": {
        "id": "RxbKHKb24Fhk"
      }
    },
    {
      "source": [
        "# Ejercicio 1\n",
        "\n",
        "Evalúa las siguientes expresiones numéricas en tu cabeza, luego usa la ventana de código activo para verificar sus resultados:\n",
        "\n",
        ">\n",
        "1. 5 ** 2\n",
        "2. 9 * 5\n",
        "3. 15 / 12\n",
        "4. 12 / 15\n",
        "5. 15 // 12\n",
        "6. 12 // 15\n",
        "7. 5 % 2\n",
        "8. 9 % 5\n",
        "9. 15 % 12\n",
        "10. 12 % 15\n",
        "11. 6 % 6\n",
        "12. 0 % 7\n",
        ">"
      ],
      "cell_type": "markdown",
      "metadata": {
        "id": "n1646ZS04Fhn"
      }
    },
    {
      "cell_type": "code",
      "execution_count": 1,
      "metadata": {
        "id": "2rTfZ0ac4Fhn",
        "outputId": "ad79c8e1-a961-418e-f1ce-977761ad03ec",
        "colab": {
          "base_uri": "https://localhost:8080/"
        }
      },
      "outputs": [
        {
          "output_type": "stream",
          "name": "stdout",
          "text": [
            "25\n"
          ]
        }
      ],
      "source": [
        "print(5**2)"
      ]
    },
    {
      "source": [
        "# Ejercicio 2\n",
        "\n",
        "Toma la frase: \"Todo trabajo y nada de juego hacen de Jack un niño aburrido\".\n",
        "\n",
        "Almacena cada palabra en una variable separada, luego imprime la oración en una línea usando `print`."
      ],
      "cell_type": "markdown",
      "metadata": {
        "id": "CKH-EjOF4Fho"
      }
    },
    {
      "cell_type": "code",
      "execution_count": null,
      "metadata": {
        "id": "jbdWVmEo4Fho"
      },
      "outputs": [],
      "source": [
        "# Escribe tu solución aquí"
      ]
    },
    {
      "source": [
        "# Ejercicio 3\n",
        "\n",
        "Escribe un programa que convierta grados centígrados a grados fahrenheit."
      ],
      "cell_type": "markdown",
      "metadata": {
        "id": "18Ch4FvB4Fhp"
      }
    },
    {
      "cell_type": "code",
      "execution_count": null,
      "metadata": {
        "id": "QrFEyG-f4Fhp"
      },
      "outputs": [],
      "source": [
        "# Escribe tu solución aquí"
      ]
    },
    {
      "source": [
        "# Ejercicio 4\n",
        "\n",
        "Escribe en Python la siguiente expresión: 2 ^ 3 (dos elevados a la potencia de 3) y asígnala a una variable llamada `resultado`. Imprime el valor del resultado de la variable. Debería ver 8 como resultado."
      ],
      "cell_type": "markdown",
      "metadata": {
        "id": "-X_QEv6G4Fhq"
      }
    },
    {
      "cell_type": "code",
      "execution_count": null,
      "metadata": {
        "id": "2kKb3MaP4Fhq"
      },
      "outputs": [],
      "source": [
        "# Escribe tu solución aquí"
      ]
    },
    {
      "source": [
        "# Ejercicio 5\n",
        "\n",
        "Corrije el código a continuación que convierte minutos en segundos. Cuando un usuario proporciona una cantidad de minutos, genera los minutos convertidos en segundos. Por ejemplo, cuando un usuario proporciona el número 1, la salida debería ser 60. ¡Trabaja hasta obtener la respuesta correcta!"
      ],
      "cell_type": "markdown",
      "metadata": {
        "id": "rFzO_Vfn4Fhq"
      }
    },
    {
      "cell_type": "code",
      "execution_count": null,
      "metadata": {
        "id": "3XIqbF1y4Fhr"
      },
      "outputs": [],
      "source": [
        "# minutes = 1\n",
        "# NR SECONDS PER MINUTE = 24\n",
        "# seconds = minutes x NR SECONDS PER MINUTE\n",
        "# print(\"seconds\")"
      ]
    },
    {
      "source": [
        "## Bonus\n",
        "\n",
        "¿Cómo convertirías el código anterior a una función?"
      ],
      "cell_type": "markdown",
      "metadata": {
        "id": "ZDdHVJy64Fhr"
      }
    },
    {
      "cell_type": "code",
      "execution_count": null,
      "metadata": {
        "id": "_w6AD3Ld4Fhr"
      },
      "outputs": [],
      "source": [
        "# Escribe tu solución aquí"
      ]
    },
    {
      "source": [
        "# Ejercicio 6\n",
        "\n",
        "Crea una variable llamada `carname` y asígnele el valor `Honda`. Luego imprime cuántos caracteres tiene `carname`."
      ],
      "cell_type": "markdown",
      "metadata": {
        "id": "hi3PlrHX4Fhr"
      }
    },
    {
      "cell_type": "code",
      "execution_count": null,
      "metadata": {
        "id": "C4nJB_nR4Fhr"
      },
      "outputs": [],
      "source": [
        "# Escribe tu solución aquí"
      ]
    },
    {
      "source": [
        "# Ejercicio 7\n",
        "\n",
        "Escribe un código que solicite a los usuarios que ingresen el año en que nacieron. Imprime cuántos años cumplirán en 2022."
      ],
      "cell_type": "markdown",
      "metadata": {
        "id": "napQSdTg4Fhr"
      }
    },
    {
      "cell_type": "code",
      "execution_count": null,
      "metadata": {
        "id": "u1CQeZig4Fhs"
      },
      "outputs": [],
      "source": [
        "# Escribe tu solución aquí"
      ]
    },
    {
      "source": [
        "# Ejercicio 8\n",
        "\n",
        "Escribe una función llamada `cubo`. Toma un número entero y devuelve el cubo de ese valor entero. Escribe código para asignar a una variable llamada `xyz` el valor `5 * 5 * 5` (cinco al cubo). Usa la función cubo, en lugar de simplemente multiplicar con *.\n"
      ],
      "cell_type": "markdown",
      "metadata": {
        "id": "yFr6YXYl4Fhs"
      }
    },
    {
      "source": [
        "# Escribe tu solución aquí"
      ],
      "cell_type": "code",
      "metadata": {
        "id": "p5VgRYQZ4Fhs"
      },
      "execution_count": null,
      "outputs": []
    },
    {
      "source": [
        "# Ejercicio 9\n",
        "\n",
        "Escribe código para asignar el número de caracteres en la cadena `rv` a una variable `num_chars`."
      ],
      "cell_type": "markdown",
      "metadata": {
        "id": "RRJkFu3f4Fhs"
      }
    },
    {
      "cell_type": "code",
      "execution_count": null,
      "metadata": {
        "id": "KinuszFP4Fhs"
      },
      "outputs": [],
      "source": [
        "rv = \"\"\"Once upon a midnight dreary, while I pondered, weak and weary,\n",
        "    Over many a quaint and curious volume of forgotten lore,\n",
        "    While I nodded, nearly napping, suddenly there came a tapping,\n",
        "    As of some one gently rapping, rapping at my chamber door.\n",
        "    'Tis some visitor, I muttered, tapping at my chamber door;\n",
        "    Only this and nothing more.\"\"\"\n",
        "\n",
        "# ¡Escribe tu solución aquí!"
      ]
    },
    {
      "source": [
        "# Ejercicio 10\n",
        "\n",
        "¿Qué valores se obtienen de estas expresiones?\n",
        "\n",
        ">\n",
        "1. 3 == 3\n",
        "2. 3! = 3\n",
        "3. 3 >= 4\n",
        "4. not (3 < 4)\n",
        ">"
      ],
      "cell_type": "markdown",
      "metadata": {
        "id": "fahlAiVJ4Fhs"
      }
    },
    {
      "cell_type": "code",
      "execution_count": null,
      "metadata": {
        "id": "1BLg6zNP4Fhs",
        "outputId": "a82fe674-fe34-4069-f86f-681496f4e2e2"
      },
      "outputs": [
        {
          "output_type": "stream",
          "name": "stdout",
          "text": [
            "True\n"
          ]
        }
      ],
      "source": [
        "print(3 == 3)"
      ]
    },
    {
      "source": [
        "Si tienes tiempo, te invito a explorar los [ejercicios del capitulo 2](https://runestone.academy/runestone/books/published/fopp/SimplePythonData/Exercises.html) del tutorial original en inglés."
      ],
      "cell_type": "markdown",
      "metadata": {
        "id": "CE4FoWQ14Fht"
      }
    }
  ]
}